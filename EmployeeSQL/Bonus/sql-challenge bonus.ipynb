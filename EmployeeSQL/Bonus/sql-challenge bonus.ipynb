{
 "cells": [
  {
   "cell_type": "code",
   "execution_count": 2,
   "metadata": {},
   "outputs": [],
   "source": [
    "# Import dependencies\n",
    "import os\n",
    "import sqlalchemy\n",
    "from sqlalchemy import create_engine\n",
    "import pandas as pd\n",
    "import matplotlib.mlab as mlab\n",
    "import matplotlib.pyplot as plt\n",
    "import matplotlib.ticker as ticker\n",
    "# vairables for login to postgres database\n",
    "# import config as cfg\n",
    "from config import user, pwd, host, port, database\n",
    "\n",
    "# create engine to connect to postgres database\n",
    "engine = create_engine(f\"postgresql://{user}:{pwd}@{host}:{port}/{database}\")\n",
    "connection = engine.connect()\n"
   ]
  },
  {
   "cell_type": "code",
   "execution_count": null,
   "metadata": {},
   "outputs": [],
   "source": [
    "# bring salary information into pandas dataframe\n",
    "salary = pd.read_sql_table(\"salaries\",engine)\n",
    "salary.head()\n"
   ]
  },
  {
   "cell_type": "code",
   "execution_count": null,
   "metadata": {},
   "outputs": [],
   "source": [
    "#create a bins  for plot\n",
    "num_bins = 10\n",
    "\n",
    "# Plot Histogram\n",
    "x = salary[\"salary\"]\n",
    "n, bins, patches = plt.hist(x, num_bins, facecolor='blue', alpha=0.75)\n",
    "\n",
    "plt.xlabel('Salary $')\n",
    "plt.ylabel('Frequency')\n",
    "plt.title('Common Salary Ranges For Employees')\n",
    "plt.grid()\n",
    "plt.tight_layout()\n",
    "plt.show()"
   ]
  },
  {
   "cell_type": "code",
   "execution_count": null,
   "metadata": {},
   "outputs": [],
   "source": [
    "# Reading the \"employees\" table into pandas\n",
    "employees = pd.read_sql(\"SELECT * FROM \\\"employees\\\"\", connection)\n",
    "employees.head()\n"
   ]
  },
  {
   "cell_type": "code",
   "execution_count": null,
   "metadata": {},
   "outputs": [],
   "source": [
    "# Reading the \"titles\" table into pandas\n",
    "titles = pd.read_sql(\"SELECT * FROM \\\"titles\\\"\", connection)\n",
    "titles.head()"
   ]
  },
  {
   "cell_type": "code",
   "execution_count": null,
   "metadata": {},
   "outputs": [],
   "source": [
    "# Merge 3 tables (salaries, employees and title) to get salary by title\n",
    "emp_w_salary = employees.merge(salary, on=\"emp_no\")\n",
    "merged = emp_w_salary.merge(titles, left_on=\"emp_title_id\", right_on=\"title_id\")\n",
    "\n",
    "# Plot bar chart to show average salary by title\n",
    "bar = merged[[\"title\",\"salary\"]].groupby(\"title\").mean()\n",
    "bar = bar.sort_values(by=\"salary\", ascending=True)\n",
    "chart2 = bar.plot.barh(legend=False, alpha=0.75)\n",
    "chart2.set_title(\"Average Salary by Title\")\n",
    "chart2.set_xlabel(\"Salary $\")\n",
    "chart2.set_ylabel(\"Title\")\n",
    "plt.show()"
   ]
  },
  {
   "cell_type": "code",
   "execution_count": null,
   "metadata": {},
   "outputs": [],
   "source": [
    "# Epilogue\n",
    "merged[merged[\"emp_no\"]==499942]"
   ]
  }
 ],
 "metadata": {
  "kernelspec": {
   "display_name": "Python 3.7.13 ('bootcamp')",
   "language": "python",
   "name": "python3"
  },
  "language_info": {
   "codemirror_mode": {
    "name": "ipython",
    "version": 3
   },
   "file_extension": ".py",
   "mimetype": "text/x-python",
   "name": "python",
   "nbconvert_exporter": "python",
   "pygments_lexer": "ipython3",
   "version": "3.7.13"
  },
  "orig_nbformat": 4,
  "vscode": {
   "interpreter": {
    "hash": "2bc8728f68034420f4cc4c1a33cad6b752b6f009e9e443ca9c4b593c272a5f29"
   }
  }
 },
 "nbformat": 4,
 "nbformat_minor": 2
}
